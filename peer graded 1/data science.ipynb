{
 "cells": [
  {
   "cell_type": "markdown",
   "id": "5c3ded33",
   "metadata": {},
   "source": [
    "# Data Science Tools and Ecosystem\n",
    "\n",
    "## In this notebook, Data Science Tools and Ecosystem are summarized.\n",
    "\n",
    "## Objectives:\n",
    "- Popular languages of data science\n",
    "- Popular Libraries of data science\n",
    "- Popular IDE of data science\n",
    "- Arithmatic Expression Representation in Markdown\n",
    "- Calculation of Arithmetic expression in Markdown\n",
    "\n",
    "### Some of the popular languages that Data Scientists use are:\n",
    "1. Python\n",
    "2. R \n",
    "3. Scala\n",
    "4. JAVA\n",
    "5. SQL\n",
    "\n",
    "### Some of the commonly used libraries used by Data Scientists include:\n",
    "1. Pandas\n",
    "2. Matplotlib\n",
    "3. NumPy\n",
    "4. Scikit\n",
    "5. Tenserflow\n",
    "\n",
    "|Data Science Tools |\n",
    "|-------------------|\n",
    "|Jupyter Notebook   |\n",
    "|Watson Studio      |\n",
    "|VS Code            |\n",
    "\n",
    "### Below are a few examples of evaluating arithmetic expressions in Python\n",
    "- $e^{i\\pi} + 1 = 0$\n",
    "- \\begin{equation} e^x=\\sum_{i=0}^\\infty \\frac{1}{i!}x^i \\end{equation}\n",
    "\n",
    "\n",
    "### This a simple arithmetic expression to mutiply then add integers: (3*4)+5\n",
    "\n",
    "(3*4)+5\n",
    "\n",
    "#### This will convert 200 minutes to hours by diving by 60\n",
    "\n",
    "hours=200/60\n",
    "print(\"hours = \",hours )\n",
    "\n",
    "## Author:\n",
    "---------------\n",
    "Lakshmi Holla <br>\n",
    "Niveditha Pandith"
   ]
  },
  {
   "cell_type": "code",
   "execution_count": null,
   "id": "efe3e5cb",
   "metadata": {},
   "outputs": [],
   "source": []
  }
 ],
 "metadata": {
  "kernelspec": {
   "display_name": "Python 3 (ipykernel)",
   "language": "python",
   "name": "python3"
  },
  "language_info": {
   "codemirror_mode": {
    "name": "ipython",
    "version": 3
   },
   "file_extension": ".py",
   "mimetype": "text/x-python",
   "name": "python",
   "nbconvert_exporter": "python",
   "pygments_lexer": "ipython3",
   "version": "3.11.5"
  }
 },
 "nbformat": 4,
 "nbformat_minor": 5
}
